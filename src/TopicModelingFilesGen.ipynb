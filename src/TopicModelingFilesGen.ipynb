{
 "cells": [
  {
   "cell_type": "markdown",
   "metadata": {},
   "source": [
    "Yelp represents the data in json format. Json format files are huge in nature and takes more time processing them. Here, we convert the json files into csv files with only the required features for our analysis."
   ]
  },
  {
   "cell_type": "code",
   "execution_count": 2,
   "metadata": {
    "collapsed": true
   },
   "outputs": [],
   "source": [
    "from nltk.stem import *\n",
    "import numpy as np\n",
    "import textmining\n",
    "import re\n",
    "import lda\n",
    "import lda.datasets\n",
    "import json\n",
    "from nltk.corpus import stopwords\n",
    "from nltk.corpus import opinion_lexicon\n",
    "from nltk.corpus import nps_chat\n",
    "from scipy.sparse import coo_matrix\n",
    "stopWords = set(stopwords.words('english'))\n",
    "\n",
    "stemmer = SnowballStemmer(\"english\")\n",
    "stopWords |= set(nps_chat.words())\n",
    "stopWords |= set(opinion_lexicon.negative())\n",
    "stopWords |= set(opinion_lexicon.positive())"
   ]
  },
  {
   "cell_type": "code",
   "execution_count": 13,
   "metadata": {},
   "outputs": [
    {
     "name": "stdout",
     "output_type": "stream",
     "text": [
      "Processed all reviews!\n"
     ]
    }
   ],
   "source": [
    "#Convert reviews.json filtered for restaurant business to csv\n",
    "reviewDocs = dict()\n",
    "with open(\"../input/Filtered_Data/filtered_review.json\") as json_file:\n",
    "    line_count = 0\n",
    "    f = open(\"../output/filtered_review.csv\", 'w')\n",
    "    f.write(\"stars,review_id,user_id,business_id,text\\n\")\n",
    "    for line in json_file:\n",
    "        review = json.loads(line)\n",
    "        text = review['text']\n",
    "        text = re.sub('[^A-Za-z ]+', '', text)\n",
    "        text = \" \".join([word.strip() for word in text.lower().split() if word.strip() not in stopWords])\n",
    "        fs = \",\"\n",
    "        stars = review['stars']\n",
    "        rid = review['review_id']\n",
    "        uid = review['user_id']\n",
    "        bid = review['business_id']\n",
    "        useful = review['useful']\n",
    "        writeToCSV = str(stars)+fs+rid+fs+uid+fs+bid+fs+\"\\\"\"+text+\"\\\"\\n\"\n",
    "        f.write(writeToCSV)\n",
    "        f.flush()\n",
    "    f.close()\n",
    "    print(\"Processed all reviews!\")"
   ]
  },
  {
   "cell_type": "code",
   "execution_count": 14,
   "metadata": {},
   "outputs": [
    {
     "name": "stdout",
     "output_type": "stream",
     "text": [
      "Processed all reviews!\n"
     ]
    }
   ],
   "source": [
    "#Convert business.json filtered for restaurant business to csv\n",
    "reviewDocs = dict()\n",
    "with open(\"../input/Filtered_Data/filtered_business.json\") as json_file:\n",
    "    line_count = 0\n",
    "    f = open(\"../output/filtered_business.csv\", 'w')\n",
    "    f.write(\"stars,business_id,name,city\\n\")\n",
    "    for line in json_file:\n",
    "        business = json.loads(line)\n",
    "        stars = business['stars']\n",
    "        bid = business['business_id']\n",
    "        name = business['name']\n",
    "        city = business['city']\n",
    "        writeToCSV = str(stars)+fs+bid+fs+\"\\\"\"+name+\"\\\"\"+fs+city+\"\\n\"\n",
    "        f.write(writeToCSV)\n",
    "        f.flush()\n",
    "    f.close()\n",
    "    print(\"Processed all reviews!\")"
   ]
  },
  {
   "cell_type": "code",
   "execution_count": null,
   "metadata": {
    "collapsed": true
   },
   "outputs": [],
   "source": [
    "f = open(\"../output/stopWords.txt\",'w')\n",
    "for word in stopWords:\n",
    "    f.write(word.lower()+\"\\n\")\n",
    "    f.flush()\n",
    "f.close()\n",
    "print "
   ]
  }
 ],
 "metadata": {
  "kernelspec": {
   "display_name": "Python 3",
   "language": "python",
   "name": "python3"
  },
  "language_info": {
   "codemirror_mode": {
    "name": "ipython",
    "version": 3
   },
   "file_extension": ".py",
   "mimetype": "text/x-python",
   "name": "python",
   "nbconvert_exporter": "python",
   "pygments_lexer": "ipython3",
   "version": "3.6.1"
  }
 },
 "nbformat": 4,
 "nbformat_minor": 2
}
