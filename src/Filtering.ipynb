{
 "cells": [
  {
   "cell_type": "code",
   "execution_count": 1,
   "metadata": {
    "collapsed": true
   },
   "outputs": [],
   "source": [
    "import json\n",
    "import re"
   ]
  },
  {
   "cell_type": "markdown",
   "metadata": {},
   "source": [
    "Below are the categories related to restaurants we formulated based on the Yelp documentation. "
   ]
  },
  {
   "cell_type": "code",
   "execution_count": 25,
   "metadata": {
    "collapsed": true
   },
   "outputs": [],
   "source": [
    "imp_categories = set(['Food','Acai Bowls','Bagels','Bakeries','Beer','Breweries','Bubble Tea','Butcher','CSA',\n",
    "                      'Chimney Cakes','Cideries','Coffee & Tea','Coffee','Coffee Roasteries','Cupcakes','Custom Cakes',\n",
    "                      'Desserts','Distilleries','Diyfood','Donuts','Empanadas','Farmers Market','Food Delivery Services',\n",
    "                      'Food Trucks','Gelato','Grocery','Honey', 'Ice Cream & Frozen Yogurt','Imported Food', \n",
    "                      'International Grocery','Internet Cafes','Juice Bars & Smoothies','Kombucha',' Organic Stores',\n",
    "                      'Patisserie/Cake Shop','Piadina','Poke','Pretzels',' Shaved Ice',' Shaved Snow','Smokehouse',\n",
    "                      'Specialty Food','International Grocery','Internet Cafes','Juice Bars & Smoothies','Kombucha',\n",
    "                      'Organic Stores','Patisserie/Cake Shop','Piadina','Poke','Pretzels','Shaved Ice','Shaved Snow',\n",
    "                      'Smokehouse','Specialty Food','Candy Stores','Cheese Shops','Chocolatiers & Shops',\n",
    "                      'Fruits & Veggies','Health Markets','Herbs & Spices','Macarons','Meat Shops','Olive Oil',\n",
    "                      'Pasta Shops','Popcorn Shops','Seafood Markets','Street Vendors','Tea Rooms','Water Stores',\n",
    "                      'Wineries','Wine Tasting Room','Restaurants','Afghan','African','Senegalese','South African',\n",
    "                      'American (New)','American (Traditional)','Arabian','Argentine','Armenian','Asian Fusion',\n",
    "                      'Australian','Austrian','Bangladeshi','Barbeque','Basque','Belgian','Brasseries','Brazilian',\n",
    "                      'Breakfast & Brunch','British','Buffets','Burgers','Burmese','Cafes','Themed Cafes','Cafeteria',\n",
    "                      'Cajun/Creole','Cambodian','Caribbean','Dominican','Haitian','Puerto Rican','Trinidadian',\n",
    "                      'Catalan','Cheesesteaks','Chicken Shop','Chicken Wings','Chinese','Cantonese','Dim Sum','Hainan',\n",
    "                      'Shanghainese','Szechuan','Comfort Food','Creperies','Cuban','Czech','Delis','Diners',\n",
    "                      'Dinner Theater','Ethiopian','Fast Food','Filipino','Fish & Chips','Fondue','Food Court',\n",
    "                      'Food Stands','French','Mauritius','Reunion','Game Meat','Gastropubs','German','Gluten-Free',\n",
    "                      'Greek','Guamanian','Halal','Hawaiian','Himalayan/Nepalese','Honduran','Hong Kong Style Cafe',\n",
    "                      'Hot Dogs','Hot Pot','Hungarian','Iberian','Indian','Indonesian','Irish','Italian','Calabrian',\n",
    "                      'Sardinian','Sicilian','Tuscan','Japanese','Conveyor Belt Sushi','Izakaya','Japanese Curry',\n",
    "                      'Ramen','Teppanyaki','Kebab','Korean','Kosher','Laotian','Latin American','Colombian','Salvadoran',\n",
    "                      'Venezuelan','Live/Raw Food','Malaysian','Mediterranean','Falafel','Mexican','Tacos',\n",
    "                      'Middle Eastern','Egyptian','Lebanese','Modern European','Mongolian','Moroccan',\n",
    "                      'New Mexican Cuisine','Nicaraguan','Noodles','Pakistani','Pan Asian','Persian/Iranian','Peruvian',\n",
    "                      'Pizza','Polish','Pop-Up Restaurants','Portuguese','Poutineries','Russian','Salad','Sandwiches',\n",
    "                      'Scandinavian','Scottish','Seafood','Singaporean','Slovakian','Soul Food','Soup','Southern',\n",
    "                      'Spanish','Sri Lankan','Steakhouses','Supper Clubs','Sushi Bars','Syrian','Taiwanese','Tapas Bars'\n",
    "                      ,'Tapas/Small Plates','Tex-Mex','Thai','Turkish','Ukrainian','Uzbek','Vegan','Vegetarian',\n",
    "                      'Vietnamese','Waffles','Wraps'])"
   ]
  },
  {
   "cell_type": "code",
   "execution_count": 35,
   "metadata": {
    "collapsed": true
   },
   "outputs": [],
   "source": [
    "req_bus_ids = []\n",
    "req_bus = []\n",
    "\n",
    "fb_file = open(\"../input/filtered_business.json\",'w')\n",
    "with open(\"../input/business.json\") as b_file:\n",
    "    for line in b_file:\n",
    "        business = json.loads(line)\n",
    "#         if re.match(pattern, \" ; \".join(business['categories']).lower()):\n",
    "        if  imp_categories & set(business['categories']):\n",
    "            req_bus_ids.append(business['business_id'])\n",
    "            req_bus.append(business)\n",
    "            fb_file.write(json.dumps(business))\n",
    "            \n",
    "# filtered_business_file.close()\n",
    "        \n",
    "# with open(\"../input/filtered_business.json\",'w+') as fb_file:\n",
    "#     json.dump(req_bus,fb_file)"
   ]
  },
  {
   "cell_type": "code",
   "execution_count": 29,
   "metadata": {},
   "outputs": [
    {
     "name": "stdout",
     "output_type": "stream",
     "text": [
      "65028\n"
     ]
    }
   ],
   "source": [
    "print(len(req_bus_ids))"
   ]
  },
  {
   "cell_type": "code",
   "execution_count": 38,
   "metadata": {},
   "outputs": [
    {
     "name": "stdout",
     "output_type": "stream",
     "text": [
      "3216548\n"
     ]
    }
   ],
   "source": [
    "filtered_revs = []\n",
    "count = 0\n",
    "fr_file = open(\"../input/filtered_review.json\",'w+')\n",
    "with open(\"../input/review.json\") as r_file:\n",
    "    for line in r_file:\n",
    "        review = json.loads(line)\n",
    "        if review['business_id'] in req_bus_ids:\n",
    "            count+=1\n",
    "            fr_file.write(json.dumps(review)+\"\\n\")\n",
    "#             filtered_revs.append(review)            \n",
    "print(count)"
   ]
  },
  {
   "cell_type": "code",
   "execution_count": null,
   "metadata": {
    "collapsed": true
   },
   "outputs": [],
   "source": []
  }
 ],
 "metadata": {
  "kernelspec": {
   "display_name": "Python 3",
   "language": "python",
   "name": "python3"
  },
  "language_info": {
   "codemirror_mode": {
    "name": "ipython",
    "version": 3
   },
   "file_extension": ".py",
   "mimetype": "text/x-python",
   "name": "python",
   "nbconvert_exporter": "python",
   "pygments_lexer": "ipython3",
   "version": "3.6.1"
  }
 },
 "nbformat": 4,
 "nbformat_minor": 2
}
